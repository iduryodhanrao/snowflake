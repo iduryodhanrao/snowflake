{
 "metadata": {
  "kernelspec": {
   "display_name": "Streamlit Notebook",
   "name": "streamlit"
  },
  "lastEditStatus": {
   "notebookId": "7dutiqdujfjofmqj5zwo",
   "authorId": "9006540625791",
   "authorName": "USER",
   "authorEmail": "",
   "sessionId": "88e8f776-2bfc-4bc5-9bb4-88a5c5c472b7",
   "lastEditTime": 1747353009355
  }
 },
 "nbformat_minor": 5,
 "nbformat": 4,
 "cells": [
  {
   "cell_type": "markdown",
   "id": "5503b0bd-5ad2-4402-896e-940ee2b7fad6",
   "metadata": {
    "name": "cell12",
    "collapsed": false
   },
   "source": "### Pre-requisites\n\n- USE ROLE ACCOUNTADMIN;\n- CREATE ROLE ML_MODEL_ROLE;\n- CREATE OR REPLACE DATABASE MOVIE_RECOMMENDER_DB;\n- CREATE OR REPLACE SCHEMA MOVIE_RECOMMENDER_SCHEMA;\n- GRANT ALL PRIVILEGES ON DATABASE MOVIE_RECOMMENDER_DB TO ROLE ML_MODEL_ROLE;\n- GRANT ALL PRIVILEGES ON SCHEMA MOVIE_RECOMMENDER_DB.MOVIE_RECOMMENDER_SCHEMA TO ROLE ML_MODEL_ROLE;\n- Load all .CSVs into Tables in the SCHEMA MOVIE_RECOMMENDER_DB.MOVIE_RECOMMENDER_SCHEMA\n- Create compute pool and grant privileges\n- -- Create Container Runtime Notebook, import .ipynb, make sure to use ML_MODEL_ROLE"
  },
  {
   "cell_type": "markdown",
   "id": "517f8e2e-3bda-4d28-9a52-8aeca6cd92d8",
   "metadata": {
    "name": "cell15",
    "collapsed": false
   },
   "source": "### Import all Required Libraries"
  },
  {
   "cell_type": "code",
   "id": "8c3db37a-fe57-476f-abd1-13cbc4506a4f",
   "metadata": {
    "language": "python",
    "name": "cell4"
   },
   "outputs": [],
   "source": "import pandas as pd\nimport numpy as np\nfrom scipy.sparse import csr_matrix\nfrom sklearn.neighbors import NearestNeighbors\n\n# We can also use Snowpark for our analyses!\nfrom snowflake.snowpark.context import get_active_session\nsession = get_active_session()",
   "execution_count": null
  },
  {
   "cell_type": "markdown",
   "id": "31851bbe-ed71-402f-a1de-0a8646610eba",
   "metadata": {
    "name": "cell17",
    "collapsed": false
   },
   "source": "### Load all required Snowflake Tables into DataFrames"
  },
  {
   "cell_type": "code",
   "id": "acb67b12-44ac-4e7d-98ba-08aeb985fd78",
   "metadata": {
    "language": "python",
    "name": "cell10"
   },
   "outputs": [],
   "source": "ratings = session.table(\"user_ratings\").to_pandas()\nratings",
   "execution_count": null
  },
  {
   "cell_type": "code",
   "id": "7c6b6f0e-4f4b-4fd9-8f7e-4befcea957bb",
   "metadata": {
    "language": "python",
    "name": "cell11"
   },
   "outputs": [],
   "source": "movie_titles = session.table(\"title\").to_pandas()\nmovie_titles",
   "execution_count": null
  },
  {
   "cell_type": "code",
   "id": "b9f2f85a-a076-4c41-b107-80da5229080e",
   "metadata": {
    "language": "python",
    "name": "cell31"
   },
   "outputs": [],
   "source": "user_df = session.table('user').to_pandas()\nuser_df",
   "execution_count": null
  },
  {
   "cell_type": "markdown",
   "id": "12395f4e-e6b6-42dc-b7d1-ffd8bc5ecbbb",
   "metadata": {
    "name": "cell18",
    "collapsed": false
   },
   "source": "### Train KNN Model"
  },
  {
   "cell_type": "code",
   "id": "69c1addf-1ac3-4a64-bc56-b4e04293704a",
   "metadata": {
    "language": "python",
    "name": "cell3"
   },
   "outputs": [],
   "source": "user_movie_matrix = ratings.pivot(index='USER_ID', columns='ITEM_ID', values='RATING').fillna(0)\nuser_movie_matrix_sparse = csr_matrix(user_movie_matrix)",
   "execution_count": null
  },
  {
   "cell_type": "code",
   "id": "1080851f-4833-46ec-b3a6-c6a6e69e9750",
   "metadata": {
    "language": "python",
    "name": "cell5"
   },
   "outputs": [],
   "source": "model_knn = NearestNeighbors(metric='cosine', algorithm='brute', n_neighbors=10, n_jobs=-1)\nmodel_knn.fit(user_movie_matrix_sparse)",
   "execution_count": null
  },
  {
   "cell_type": "markdown",
   "id": "80c3a91c-8efb-4ce2-9ac5-a35f9e7e7e73",
   "metadata": {
    "name": "cell25",
    "collapsed": false
   },
   "source": "### Write function to Batch Inference set of User IDs, using the trained model"
  },
  {
   "cell_type": "code",
   "id": "3e29f9ea-9db5-42ee-ad96-32a935b945a9",
   "metadata": {
    "language": "python",
    "name": "cell32"
   },
   "outputs": [],
   "source": "def recommend_movies_batch_mod(user_ids_df):\n    \"\"\"\n    Generate movie recommendations for multiple users\n    \n    Parameters:\n    user_ids_df (pd.DataFrame): DataFrame containing user_ids\n    \n    Returns:\n    pd.DataFrame: DataFrame with user_ids and their movie recommendations\n    \"\"\"\n    \n    # Initialize lists to store results\n    all_user_ids = []\n    all_recommendations = []\n    \n    # Iterate through each user_id in the input DataFrame\n    for user_id in user_ids_df['ID'].values:\n        try:\n            # Get nearest neighbors for the user\n            distances, indices = model_knn.kneighbors(\n                user_movie_matrix.iloc[user_id-1, :].values.reshape(1, -1), \n                n_neighbors=10\n            )\n            \n            similar_users = indices.flatten()\n            movie_scores = {}\n            \n            # Calculate movie scores based on similar users\n            for i in similar_users:\n                for movie in user_movie_matrix.columns:\n                    if user_movie_matrix.iloc[user_id-1, movie-1] == 0:  # Movie not yet rated\n                        movie_scores[movie] = movie_scores.get(movie, 0) + user_movie_matrix.iloc[i, movie-1]\n            \n            # Get top recommendations\n            recommended_movies = sorted(\n                movie_scores.items(), \n                key=lambda x: x[1], \n                reverse=True\n            )[:3]\n            \n            # Format recommendations\n            recommendations = []\n            for movie_id, score in recommended_movies:\n                #movie_name = movie_titles[movie_titles['ITEM_ID'] == movie_id]['TITLE'].values[0]\n                mov_obj = {}\n                mov_obj[\"movie_name\"] = movie_titles[movie_titles['ITEM_ID'] == movie_id]['TITLE'].values[0]\n                mov_obj[\"movie_score\"] = f\"{score:.2f}\"\n                recommendations.append(mov_obj)\n            \n            # Append results\n            all_user_ids.append(user_id)\n            all_recommendations.append(recommendations)\n            \n        except Exception as e:\n            print(f\"Error processing user_id {user_id}: {str(e)}\")\n            all_user_ids.append(user_id)\n            all_recommendations.append(\"Error generating recommendations\")\n    \n    # Create results DataFrame\n    results_df = pd.DataFrame({\n        'user_id': all_user_ids,\n        'recommendations': all_recommendations\n    })\n    \n    return results_df",
   "execution_count": null
  },
  {
   "cell_type": "code",
   "id": "978ba119-da9a-4625-a7b1-804294d9a43a",
   "metadata": {
    "language": "python",
    "name": "cell33"
   },
   "outputs": [],
   "source": "results_df = recommend_movies_batch_mod(user_df)\nsnp_results_df = session.create_dataframe(results_df)\nsnp_results_df",
   "execution_count": null
  },
  {
   "cell_type": "code",
   "id": "587f4702-eb58-40ad-b712-b3d429cff089",
   "metadata": {
    "language": "python",
    "name": "cell1"
   },
   "outputs": [],
   "source": "snp_results_df.write.save_as_table(\n    \"movie_recommendations\",\n    mode=\"overwrite\"\n)",
   "execution_count": null
  },
  {
   "cell_type": "markdown",
   "id": "26a24a5d-d8da-4e90-9bab-404b009fcd1b",
   "metadata": {
    "name": "cell6",
    "collapsed": false
   },
   "source": "### Table saved in Snowflake with Number ID column and VARIANT recommendation column"
  },
  {
   "cell_type": "code",
   "id": "8c83200e-fa26-4468-acf0-e686d185a104",
   "metadata": {
    "language": "sql",
    "name": "cell2"
   },
   "outputs": [],
   "source": "DESC TABLE MOVIE_RECOMMENDATIONS",
   "execution_count": null
  },
  {
   "cell_type": "markdown",
   "id": "dcd192aa-3bc6-476e-8324-6fcd65e1cfa5",
   "metadata": {
    "name": "cell9",
    "collapsed": false
   },
   "source": "### Use Snowflake SQL to Parse Out Recommended Movies per user"
  },
  {
   "cell_type": "code",
   "id": "493dd272-95f4-4187-8604-0460dd961d8b",
   "metadata": {
    "language": "sql",
    "name": "cell7"
   },
   "outputs": [],
   "source": "SELECT \n    t.\"user_id\",\n    TRIM(PARSE_JSON(f.value):\"movie_name\", '\"') as MOVIE_RECOMMENDATION,\n    TRY_TO_NUMBER(TRIM(PARSE_JSON(f.value):\"movie_score\", '\"')) as RECOMMENDATION_SCORE\nFROM MOVIE_RECOMMENDATIONS t,\nTABLE(FLATTEN(t.\"recommendations\")) f;",
   "execution_count": null
  },
  {
   "cell_type": "markdown",
   "id": "58521915-3455-4790-aff7-a636d2edf184",
   "metadata": {
    "name": "cell13",
    "collapsed": false
   },
   "source": "### SQL Query to return only top recommended Movie per User"
  },
  {
   "cell_type": "code",
   "id": "0a6d6794-26ab-4810-8064-3b78e2cf1d96",
   "metadata": {
    "language": "sql",
    "name": "cell8"
   },
   "outputs": [],
   "source": "SELECT \n    t.\"user_id\" as user_id,\n    TRIM(PARSE_JSON(f.value):\"movie_name\", '\"') as MOVIE_RECOMMENDATION,\n    TRY_TO_NUMBER(TRIM(PARSE_JSON(f.value):\"movie_score\", '\"')) as RECOMMENDATION_SCORE\nFROM MOVIE_RECOMMENDATIONS t,\nTABLE(FLATTEN(t.\"recommendations\")) f\nQUALIFY ROW_NUMBER() OVER (PARTITION BY user_id ORDER BY RECOMMENDATION_SCORE desc) = 1\nORDER BY user_id asc\n",
   "execution_count": null
  }
 ]
}